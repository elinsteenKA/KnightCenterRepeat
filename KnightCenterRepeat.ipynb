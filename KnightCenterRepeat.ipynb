{
 "cells": [
  {
   "cell_type": "markdown",
   "metadata": {},
   "source": [
    "# Repeating Knight Center course \"Analyzing money in politics\""
   ]
  },
  {
   "cell_type": "code",
   "execution_count": 1,
   "metadata": {
    "collapsed": true
   },
   "outputs": [],
   "source": [
    "import pandas as pd"
   ]
  },
  {
   "cell_type": "markdown",
   "metadata": {},
   "source": [
    "### Reading two data files"
   ]
  },
  {
   "cell_type": "code",
   "execution_count": 2,
   "metadata": {
    "collapsed": true
   },
   "outputs": [],
   "source": [
    "props = pd.read_csv(\"http://www.firstpythonnotebook.org/_static/committees.csv\")"
   ]
  },
  {
   "cell_type": "code",
   "execution_count": 3,
   "metadata": {
    "collapsed": true
   },
   "outputs": [],
   "source": [
    "contribs = pd.read_csv(\"http://www.firstpythonnotebook.org/_static/contributions.csv\")"
   ]
  },
  {
   "cell_type": "markdown",
   "metadata": {},
   "source": [
    "### Finding out which propositon had the most committees"
   ]
  },
  {
   "cell_type": "code",
   "execution_count": 4,
   "metadata": {},
   "outputs": [
    {
     "data": {
      "text/plain": [
       "PROPOSITION 057 - CRIMINAL SENTENCES. JUVENILE CRIMINAL PROCEEDINGS AND SENTENCING. INITIATIVE CONSTITUTIONAL AMENDMENT AND STATUTE.                           13\n",
       "PROPOSITION 056 - CIGARETTE TAX TO FUND HEALTHCARE, TOBACCO USE PREVENTION, RESEARCH, AND LAW ENFORCEMENT. INITIATIVE CONSTITUTIONAL AMENDMENT AND STATUTE.    12\n",
       "PROPOSITION 064- MARIJUANA LEGALIZATION. INITIATIVE STATUTE.                                                                                                   11\n",
       "PROPOSITION 066- DEATH PENALTY. PROCEDURES. INITIATIVE STATUTE.                                                                                                 9\n",
       "PROPOSITION 055 - TAX EXTENSION TO FUND EDUCATION AND HEALTHCARE. INITIATIVE CONSTITUTIONAL AMENDMENT.                                                          8\n",
       "PROPOSITION 067- REFERENDUM TO OVERTURN BAN ON SINGLE-USE PLASTIC BAGS.                                                                                         7\n",
       "PROPOSITION 062- DEATH PENALTY. INITIATIVE STATUTE.                                                                                                             7\n",
       "PROPOSITION 059- SB 254 (CHAPTER 20, STATUTES OF 2016), ALLEN. CAMPAIGN FINANCE: VOTER INSTRUCTION                                                              6\n",
       "PROPOSITION 053 - REVENUE BONDS. STATEWIDE VOTER APPROVAL. INITIATIVE CONSTITUTIONAL AMENDMENT.                                                                 4\n",
       "PROPOSITION 054 - LEGISLATURE. LEGISLATION AND PROCEEDINGS. INITIATIVE CONSTITUTIONAL AMENDMENT AND STATUTE.                                                    4\n",
       "PROPOSITION 058 - SB 1174 (CHAPTER 753, STATUTES OF 2014), LARA. ENGLISH LANGUAGE EDUCATION                                                                     4\n",
       "PROPOSITION 063- FIREARMS. AMMUNITION SALES. INTIATIVE STATUTE.                                                                                                 4\n",
       "PROPOSITION 051 - SCHOOL BONDS. FUNDING FOR K-12 SCHOOL AND COMMUNITY COLLEGE FACILITIES. INITIATIVE STATUTORY AMENDMENT.                                       4\n",
       "PROPOSITION 052 - STATE FEES ON HOSPITALS. FEDERAL MEDI-CAL MATCHING FUNDS. INITIATIVE STATUTORY AND CONSTITUTIONAL AMENDMENT.                                  3\n",
       "PROPOSITION 061- STATE PRESCRIPTION DRUG PURCHASES. PRICING STANDARDS. INITIATIVE STATUTE.                                                                      3\n",
       "PROPOSITION 060- ADULT FILMS. CONDOMS. HEALTH REQUIREMENTS. INITIATIVE STATUTE.                                                                                 2\n",
       "PROPOSITION 065- CARRY-OUT BAGS. CHARGES. INITIATIVE STATUTE.                                                                                                   1\n",
       "Name: prop_name, dtype: int64"
      ]
     },
     "execution_count": 4,
     "metadata": {},
     "output_type": "execute_result"
    }
   ],
   "source": [
    "props.prop_name.value_counts()"
   ]
  },
  {
   "cell_type": "markdown",
   "metadata": {},
   "source": [
    "### Creating a variable for the proposition to investigate further"
   ]
  },
  {
   "cell_type": "code",
   "execution_count": 5,
   "metadata": {
    "collapsed": true
   },
   "outputs": [],
   "source": [
    "prop = props[props.prop_name == 'PROPOSITION 064- MARIJUANA LEGALIZATION. INITIATIVE STATUTE.']"
   ]
  },
  {
   "cell_type": "code",
   "execution_count": 6,
   "metadata": {},
   "outputs": [
    {
     "name": "stdout",
     "output_type": "stream",
     "text": [
      "<class 'pandas.core.frame.DataFrame'>\n",
      "Int64Index: 11 entries, 74 to 84\n",
      "Data columns (total 8 columns):\n",
      "ocd_prop_id               11 non-null object\n",
      "calaccess_prop_id         11 non-null int64\n",
      "ccdc_prop_id              11 non-null int64\n",
      "prop_name                 11 non-null object\n",
      "ccdc_committee_id         11 non-null int64\n",
      "calaccess_committee_id    11 non-null int64\n",
      "committee_name            11 non-null object\n",
      "committee_position        11 non-null object\n",
      "dtypes: int64(4), object(4)\n",
      "memory usage: 792.0+ bytes\n"
     ]
    }
   ],
   "source": [
    "prop.info()"
   ]
  },
  {
   "cell_type": "markdown",
   "metadata": {},
   "source": [
    "### Merging the two datasets by one common column"
   ]
  },
  {
   "cell_type": "code",
   "execution_count": 7,
   "metadata": {
    "collapsed": true
   },
   "outputs": [],
   "source": [
    "merged = pd.merge(props, contribs, on=\"calaccess_committee_id\")"
   ]
  },
  {
   "cell_type": "code",
   "execution_count": 8,
   "metadata": {},
   "outputs": [
    {
     "name": "stdout",
     "output_type": "stream",
     "text": [
      "<class 'pandas.core.frame.DataFrame'>\n",
      "Int64Index: 90264 entries, 0 to 90263\n",
      "Data columns (total 20 columns):\n",
      "ocd_prop_id                     90264 non-null object\n",
      "calaccess_prop_id               90264 non-null int64\n",
      "ccdc_prop_id                    90264 non-null int64\n",
      "prop_name                       90264 non-null object\n",
      "ccdc_committee_id               90264 non-null int64\n",
      "calaccess_committee_id          90264 non-null int64\n",
      "committee_name_x                90264 non-null object\n",
      "committee_position              90264 non-null object\n",
      "committee_name_y                90264 non-null object\n",
      "calaccess_filing_id             90264 non-null int64\n",
      "date_received                   90264 non-null object\n",
      "contributor_lastname            90256 non-null object\n",
      "contributor_firstname           86685 non-null object\n",
      "contributor_city                90251 non-null object\n",
      "contributor_state               90244 non-null object\n",
      "contributor_zip                 90248 non-null object\n",
      "contributor_employer            81684 non-null object\n",
      "contributor_occupation          86545 non-null object\n",
      "contributor_is_self_employed    90264 non-null bool\n",
      "amount                          90264 non-null float64\n",
      "dtypes: bool(1), float64(1), int64(5), object(13)\n",
      "memory usage: 13.9+ MB\n"
     ]
    }
   ],
   "source": [
    "merged.info()"
   ]
  },
  {
   "cell_type": "code",
   "execution_count": 9,
   "metadata": {},
   "outputs": [
    {
     "name": "stdout",
     "output_type": "stream",
     "text": [
      "<class 'pandas.core.frame.DataFrame'>\n",
      "Int64Index: 11 entries, 74 to 84\n",
      "Data columns (total 8 columns):\n",
      "ocd_prop_id               11 non-null object\n",
      "calaccess_prop_id         11 non-null int64\n",
      "ccdc_prop_id              11 non-null int64\n",
      "prop_name                 11 non-null object\n",
      "ccdc_committee_id         11 non-null int64\n",
      "calaccess_committee_id    11 non-null int64\n",
      "committee_name            11 non-null object\n",
      "committee_position        11 non-null object\n",
      "dtypes: int64(4), object(4)\n",
      "memory usage: 792.0+ bytes\n"
     ]
    }
   ],
   "source": [
    "prop.info()"
   ]
  },
  {
   "cell_type": "markdown",
   "metadata": {},
   "source": [
    "### Finding out the total sum of donations"
   ]
  },
  {
   "cell_type": "code",
   "execution_count": 10,
   "metadata": {},
   "outputs": [
    {
     "data": {
      "text/plain": [
       "466851993.3900001"
      ]
     },
     "execution_count": 10,
     "metadata": {},
     "output_type": "execute_result"
    }
   ],
   "source": [
    "merged.amount.sum()"
   ]
  },
  {
   "cell_type": "markdown",
   "metadata": {},
   "source": [
    "### Counting number of committees supporting and opposing and how much they donated"
   ]
  },
  {
   "cell_type": "code",
   "execution_count": 11,
   "metadata": {},
   "outputs": [
    {
     "data": {
      "text/plain": [
       "SUPPORT    50158\n",
       "OPPOSE     40106\n",
       "Name: committee_position, dtype: int64"
      ]
     },
     "execution_count": 11,
     "metadata": {},
     "output_type": "execute_result"
    }
   ],
   "source": [
    "merged.committee_position.value_counts()"
   ]
  },
  {
   "cell_type": "code",
   "execution_count": 12,
   "metadata": {
    "collapsed": true
   },
   "outputs": [],
   "source": [
    "support = merged[merged.committee_position == 'SUPPORT']"
   ]
  },
  {
   "cell_type": "code",
   "execution_count": 13,
   "metadata": {
    "collapsed": true
   },
   "outputs": [],
   "source": [
    "oppose = merged[merged.committee_position == 'OPPOSE']"
   ]
  },
  {
   "cell_type": "code",
   "execution_count": 14,
   "metadata": {},
   "outputs": [
    {
     "data": {
      "text/plain": [
       "226772758.05000007"
      ]
     },
     "execution_count": 14,
     "metadata": {},
     "output_type": "execute_result"
    }
   ],
   "source": [
    "oppose.amount.sum()"
   ]
  },
  {
   "cell_type": "code",
   "execution_count": 15,
   "metadata": {},
   "outputs": [
    {
     "data": {
      "text/plain": [
       "240079235.34000006"
      ]
     },
     "execution_count": 15,
     "metadata": {},
     "output_type": "execute_result"
    }
   ],
   "source": [
    "support.amount.sum()"
   ]
  },
  {
   "cell_type": "code",
   "execution_count": 16,
   "metadata": {},
   "outputs": [
    {
     "data": {
      "text/plain": [
       "0.51425128036123002"
      ]
     },
     "execution_count": 16,
     "metadata": {},
     "output_type": "execute_result"
    }
   ],
   "source": [
    "support.amount.sum() / merged.amount.sum()"
   ]
  },
  {
   "cell_type": "code",
   "execution_count": 17,
   "metadata": {},
   "outputs": [
    {
     "data": {
      "text/html": [
       "<div>\n",
       "<style>\n",
       "    .dataframe thead tr:only-child th {\n",
       "        text-align: right;\n",
       "    }\n",
       "\n",
       "    .dataframe thead th {\n",
       "        text-align: left;\n",
       "    }\n",
       "\n",
       "    .dataframe tbody tr th {\n",
       "        vertical-align: top;\n",
       "    }\n",
       "</style>\n",
       "<table border=\"1\" class=\"dataframe\">\n",
       "  <thead>\n",
       "    <tr style=\"text-align: right;\">\n",
       "      <th></th>\n",
       "      <th>ocd_prop_id</th>\n",
       "      <th>calaccess_prop_id</th>\n",
       "      <th>ccdc_prop_id</th>\n",
       "      <th>prop_name</th>\n",
       "      <th>ccdc_committee_id</th>\n",
       "      <th>calaccess_committee_id</th>\n",
       "      <th>committee_name_x</th>\n",
       "      <th>committee_position</th>\n",
       "      <th>committee_name_y</th>\n",
       "      <th>calaccess_filing_id</th>\n",
       "      <th>date_received</th>\n",
       "      <th>contributor_lastname</th>\n",
       "      <th>contributor_firstname</th>\n",
       "      <th>contributor_city</th>\n",
       "      <th>contributor_state</th>\n",
       "      <th>contributor_zip</th>\n",
       "      <th>contributor_employer</th>\n",
       "      <th>contributor_occupation</th>\n",
       "      <th>contributor_is_self_employed</th>\n",
       "      <th>amount</th>\n",
       "    </tr>\n",
       "  </thead>\n",
       "  <tbody>\n",
       "    <tr>\n",
       "      <th>1863</th>\n",
       "      <td>ocd-contest/446ec3da-7de1-45f0-9f97-228e53c6a9f6</td>\n",
       "      <td>1382647</td>\n",
       "      <td>74</td>\n",
       "      <td>PROPOSITION 055 - TAX EXTENSION TO FUND EDUCAT...</td>\n",
       "      <td>398</td>\n",
       "      <td>1381382</td>\n",
       "      <td>YES ON 55 - CALIFORNIANS FOR BUDGET STABILITY,...</td>\n",
       "      <td>SUPPORT</td>\n",
       "      <td>YES ON 55 - CALIFORNIANS FOR BUDGET STABILITY,...</td>\n",
       "      <td>2083690</td>\n",
       "      <td>2016-07-21</td>\n",
       "      <td>CALIFORNIA HOSPITALS COMMITTEE ON ISSUES, (CHC...</td>\n",
       "      <td>NaN</td>\n",
       "      <td>SACRAMENTO</td>\n",
       "      <td>CA</td>\n",
       "      <td>95814</td>\n",
       "      <td>NaN</td>\n",
       "      <td>NaN</td>\n",
       "      <td>False</td>\n",
       "      <td>12500000.0</td>\n",
       "    </tr>\n",
       "    <tr>\n",
       "      <th>1865</th>\n",
       "      <td>ocd-contest/446ec3da-7de1-45f0-9f97-228e53c6a9f6</td>\n",
       "      <td>1382647</td>\n",
       "      <td>74</td>\n",
       "      <td>PROPOSITION 055 - TAX EXTENSION TO FUND EDUCAT...</td>\n",
       "      <td>398</td>\n",
       "      <td>1381382</td>\n",
       "      <td>YES ON 55 - CALIFORNIANS FOR BUDGET STABILITY,...</td>\n",
       "      <td>SUPPORT</td>\n",
       "      <td>YES ON 55 - CALIFORNIANS FOR BUDGET STABILITY,...</td>\n",
       "      <td>2083690</td>\n",
       "      <td>2016-07-15</td>\n",
       "      <td>CALIFORNIA TEACHERS ASSOCIATION/ISSUES PAC</td>\n",
       "      <td>NaN</td>\n",
       "      <td>BURLINGAME</td>\n",
       "      <td>CA</td>\n",
       "      <td>94010</td>\n",
       "      <td>NaN</td>\n",
       "      <td>NaN</td>\n",
       "      <td>False</td>\n",
       "      <td>10000000.0</td>\n",
       "    </tr>\n",
       "    <tr>\n",
       "      <th>1972</th>\n",
       "      <td>ocd-contest/c2efe0d3-e9f4-4dfd-a0b7-a35757ef4ae9</td>\n",
       "      <td>1381640</td>\n",
       "      <td>75</td>\n",
       "      <td>PROPOSITION 056 - CIGARETTE TAX TO FUND HEALTH...</td>\n",
       "      <td>407</td>\n",
       "      <td>1386637</td>\n",
       "      <td>NO ON 56 - STOP THE SPECIAL INTEREST TAX GRAB....</td>\n",
       "      <td>OPPOSE</td>\n",
       "      <td>NO ON 56 - STOP THE SPECIAL INTEREST TAX GRAB....</td>\n",
       "      <td>2083642</td>\n",
       "      <td>2016-08-03</td>\n",
       "      <td>PHILIP MORRIS USA INC. (MADE BY ITS SERVICE CO...</td>\n",
       "      <td>NaN</td>\n",
       "      <td>SACRAMENTO</td>\n",
       "      <td>CA</td>\n",
       "      <td>95814</td>\n",
       "      <td>NaN</td>\n",
       "      <td>NaN</td>\n",
       "      <td>False</td>\n",
       "      <td>9956700.0</td>\n",
       "    </tr>\n",
       "    <tr>\n",
       "      <th>1979</th>\n",
       "      <td>ocd-contest/c2efe0d3-e9f4-4dfd-a0b7-a35757ef4ae9</td>\n",
       "      <td>1381640</td>\n",
       "      <td>75</td>\n",
       "      <td>PROPOSITION 056 - CIGARETTE TAX TO FUND HEALTH...</td>\n",
       "      <td>407</td>\n",
       "      <td>1386637</td>\n",
       "      <td>NO ON 56 - STOP THE SPECIAL INTEREST TAX GRAB....</td>\n",
       "      <td>OPPOSE</td>\n",
       "      <td>NO ON 56 - STOP THE SPECIAL INTEREST TAX GRAB....</td>\n",
       "      <td>2083642</td>\n",
       "      <td>2016-09-07</td>\n",
       "      <td>PHILIP MORRIS USA INC. (MADE BY ITS SERVICE CO...</td>\n",
       "      <td>NaN</td>\n",
       "      <td>SACRAMENTO</td>\n",
       "      <td>CA</td>\n",
       "      <td>95814</td>\n",
       "      <td>NaN</td>\n",
       "      <td>NaN</td>\n",
       "      <td>False</td>\n",
       "      <td>9904752.0</td>\n",
       "    </tr>\n",
       "    <tr>\n",
       "      <th>2026</th>\n",
       "      <td>ocd-contest/c2efe0d3-e9f4-4dfd-a0b7-a35757ef4ae9</td>\n",
       "      <td>1381640</td>\n",
       "      <td>75</td>\n",
       "      <td>PROPOSITION 056 - CIGARETTE TAX TO FUND HEALTH...</td>\n",
       "      <td>408</td>\n",
       "      <td>1377991</td>\n",
       "      <td>YES ON 56 - SAVES LIVES CALIFORNIA, A COALITIO...</td>\n",
       "      <td>SUPPORT</td>\n",
       "      <td>YES ON 56 - SAVES LIVES CALIFORNIA, A COALITIO...</td>\n",
       "      <td>2098627</td>\n",
       "      <td>2016-10-11</td>\n",
       "      <td>CA HOSPITALS COMMITTEE ON ISSUES, (CHCI) SPONS...</td>\n",
       "      <td>NaN</td>\n",
       "      <td>SACRAMENTO</td>\n",
       "      <td>CA</td>\n",
       "      <td>95814</td>\n",
       "      <td>NaN</td>\n",
       "      <td>NaN</td>\n",
       "      <td>False</td>\n",
       "      <td>9000000.0</td>\n",
       "    </tr>\n",
       "  </tbody>\n",
       "</table>\n",
       "</div>"
      ],
      "text/plain": [
       "                                           ocd_prop_id  calaccess_prop_id  \\\n",
       "1863  ocd-contest/446ec3da-7de1-45f0-9f97-228e53c6a9f6            1382647   \n",
       "1865  ocd-contest/446ec3da-7de1-45f0-9f97-228e53c6a9f6            1382647   \n",
       "1972  ocd-contest/c2efe0d3-e9f4-4dfd-a0b7-a35757ef4ae9            1381640   \n",
       "1979  ocd-contest/c2efe0d3-e9f4-4dfd-a0b7-a35757ef4ae9            1381640   \n",
       "2026  ocd-contest/c2efe0d3-e9f4-4dfd-a0b7-a35757ef4ae9            1381640   \n",
       "\n",
       "      ccdc_prop_id                                          prop_name  \\\n",
       "1863            74  PROPOSITION 055 - TAX EXTENSION TO FUND EDUCAT...   \n",
       "1865            74  PROPOSITION 055 - TAX EXTENSION TO FUND EDUCAT...   \n",
       "1972            75  PROPOSITION 056 - CIGARETTE TAX TO FUND HEALTH...   \n",
       "1979            75  PROPOSITION 056 - CIGARETTE TAX TO FUND HEALTH...   \n",
       "2026            75  PROPOSITION 056 - CIGARETTE TAX TO FUND HEALTH...   \n",
       "\n",
       "      ccdc_committee_id  calaccess_committee_id  \\\n",
       "1863                398                 1381382   \n",
       "1865                398                 1381382   \n",
       "1972                407                 1386637   \n",
       "1979                407                 1386637   \n",
       "2026                408                 1377991   \n",
       "\n",
       "                                       committee_name_x committee_position  \\\n",
       "1863  YES ON 55 - CALIFORNIANS FOR BUDGET STABILITY,...            SUPPORT   \n",
       "1865  YES ON 55 - CALIFORNIANS FOR BUDGET STABILITY,...            SUPPORT   \n",
       "1972  NO ON 56 - STOP THE SPECIAL INTEREST TAX GRAB....             OPPOSE   \n",
       "1979  NO ON 56 - STOP THE SPECIAL INTEREST TAX GRAB....             OPPOSE   \n",
       "2026  YES ON 56 - SAVES LIVES CALIFORNIA, A COALITIO...            SUPPORT   \n",
       "\n",
       "                                       committee_name_y  calaccess_filing_id  \\\n",
       "1863  YES ON 55 - CALIFORNIANS FOR BUDGET STABILITY,...              2083690   \n",
       "1865  YES ON 55 - CALIFORNIANS FOR BUDGET STABILITY,...              2083690   \n",
       "1972  NO ON 56 - STOP THE SPECIAL INTEREST TAX GRAB....              2083642   \n",
       "1979  NO ON 56 - STOP THE SPECIAL INTEREST TAX GRAB....              2083642   \n",
       "2026  YES ON 56 - SAVES LIVES CALIFORNIA, A COALITIO...              2098627   \n",
       "\n",
       "     date_received                               contributor_lastname  \\\n",
       "1863    2016-07-21  CALIFORNIA HOSPITALS COMMITTEE ON ISSUES, (CHC...   \n",
       "1865    2016-07-15         CALIFORNIA TEACHERS ASSOCIATION/ISSUES PAC   \n",
       "1972    2016-08-03  PHILIP MORRIS USA INC. (MADE BY ITS SERVICE CO...   \n",
       "1979    2016-09-07  PHILIP MORRIS USA INC. (MADE BY ITS SERVICE CO...   \n",
       "2026    2016-10-11  CA HOSPITALS COMMITTEE ON ISSUES, (CHCI) SPONS...   \n",
       "\n",
       "     contributor_firstname contributor_city contributor_state contributor_zip  \\\n",
       "1863                   NaN       SACRAMENTO                CA           95814   \n",
       "1865                   NaN       BURLINGAME                CA           94010   \n",
       "1972                   NaN       SACRAMENTO                CA           95814   \n",
       "1979                   NaN       SACRAMENTO                CA           95814   \n",
       "2026                   NaN       SACRAMENTO                CA           95814   \n",
       "\n",
       "     contributor_employer contributor_occupation  \\\n",
       "1863                  NaN                    NaN   \n",
       "1865                  NaN                    NaN   \n",
       "1972                  NaN                    NaN   \n",
       "1979                  NaN                    NaN   \n",
       "2026                  NaN                    NaN   \n",
       "\n",
       "      contributor_is_self_employed      amount  \n",
       "1863                         False  12500000.0  \n",
       "1865                         False  10000000.0  \n",
       "1972                         False   9956700.0  \n",
       "1979                         False   9904752.0  \n",
       "2026                         False   9000000.0  "
      ]
     },
     "execution_count": 17,
     "metadata": {},
     "output_type": "execute_result"
    }
   ],
   "source": [
    "merged.sort_values(\"amount\", ascending=False).head()"
   ]
  },
  {
   "cell_type": "code",
   "execution_count": 18,
   "metadata": {},
   "outputs": [
    {
     "data": {
      "text/html": [
       "<div>\n",
       "<style>\n",
       "    .dataframe thead tr:only-child th {\n",
       "        text-align: right;\n",
       "    }\n",
       "\n",
       "    .dataframe thead th {\n",
       "        text-align: left;\n",
       "    }\n",
       "\n",
       "    .dataframe tbody tr th {\n",
       "        vertical-align: top;\n",
       "    }\n",
       "</style>\n",
       "<table border=\"1\" class=\"dataframe\">\n",
       "  <thead>\n",
       "    <tr style=\"text-align: right;\">\n",
       "      <th></th>\n",
       "      <th>ocd_prop_id</th>\n",
       "      <th>calaccess_prop_id</th>\n",
       "      <th>ccdc_prop_id</th>\n",
       "      <th>prop_name</th>\n",
       "      <th>ccdc_committee_id</th>\n",
       "      <th>calaccess_committee_id</th>\n",
       "      <th>committee_name_x</th>\n",
       "      <th>committee_position</th>\n",
       "      <th>committee_name_y</th>\n",
       "      <th>calaccess_filing_id</th>\n",
       "      <th>date_received</th>\n",
       "      <th>contributor_lastname</th>\n",
       "      <th>contributor_firstname</th>\n",
       "      <th>contributor_city</th>\n",
       "      <th>contributor_state</th>\n",
       "      <th>contributor_zip</th>\n",
       "      <th>contributor_employer</th>\n",
       "      <th>contributor_occupation</th>\n",
       "      <th>contributor_is_self_employed</th>\n",
       "      <th>amount</th>\n",
       "    </tr>\n",
       "  </thead>\n",
       "  <tbody>\n",
       "    <tr>\n",
       "      <th>1863</th>\n",
       "      <td>ocd-contest/446ec3da-7de1-45f0-9f97-228e53c6a9f6</td>\n",
       "      <td>1382647</td>\n",
       "      <td>74</td>\n",
       "      <td>PROPOSITION 055 - TAX EXTENSION TO FUND EDUCAT...</td>\n",
       "      <td>398</td>\n",
       "      <td>1381382</td>\n",
       "      <td>YES ON 55 - CALIFORNIANS FOR BUDGET STABILITY,...</td>\n",
       "      <td>SUPPORT</td>\n",
       "      <td>YES ON 55 - CALIFORNIANS FOR BUDGET STABILITY,...</td>\n",
       "      <td>2083690</td>\n",
       "      <td>2016-07-21</td>\n",
       "      <td>CALIFORNIA HOSPITALS COMMITTEE ON ISSUES, (CHC...</td>\n",
       "      <td>NaN</td>\n",
       "      <td>SACRAMENTO</td>\n",
       "      <td>CA</td>\n",
       "      <td>95814</td>\n",
       "      <td>NaN</td>\n",
       "      <td>NaN</td>\n",
       "      <td>False</td>\n",
       "      <td>12500000.0</td>\n",
       "    </tr>\n",
       "    <tr>\n",
       "      <th>1865</th>\n",
       "      <td>ocd-contest/446ec3da-7de1-45f0-9f97-228e53c6a9f6</td>\n",
       "      <td>1382647</td>\n",
       "      <td>74</td>\n",
       "      <td>PROPOSITION 055 - TAX EXTENSION TO FUND EDUCAT...</td>\n",
       "      <td>398</td>\n",
       "      <td>1381382</td>\n",
       "      <td>YES ON 55 - CALIFORNIANS FOR BUDGET STABILITY,...</td>\n",
       "      <td>SUPPORT</td>\n",
       "      <td>YES ON 55 - CALIFORNIANS FOR BUDGET STABILITY,...</td>\n",
       "      <td>2083690</td>\n",
       "      <td>2016-07-15</td>\n",
       "      <td>CALIFORNIA TEACHERS ASSOCIATION/ISSUES PAC</td>\n",
       "      <td>NaN</td>\n",
       "      <td>BURLINGAME</td>\n",
       "      <td>CA</td>\n",
       "      <td>94010</td>\n",
       "      <td>NaN</td>\n",
       "      <td>NaN</td>\n",
       "      <td>False</td>\n",
       "      <td>10000000.0</td>\n",
       "    </tr>\n",
       "    <tr>\n",
       "      <th>2026</th>\n",
       "      <td>ocd-contest/c2efe0d3-e9f4-4dfd-a0b7-a35757ef4ae9</td>\n",
       "      <td>1381640</td>\n",
       "      <td>75</td>\n",
       "      <td>PROPOSITION 056 - CIGARETTE TAX TO FUND HEALTH...</td>\n",
       "      <td>408</td>\n",
       "      <td>1377991</td>\n",
       "      <td>YES ON 56 - SAVES LIVES CALIFORNIA, A COALITIO...</td>\n",
       "      <td>SUPPORT</td>\n",
       "      <td>YES ON 56 - SAVES LIVES CALIFORNIA, A COALITIO...</td>\n",
       "      <td>2098627</td>\n",
       "      <td>2016-10-11</td>\n",
       "      <td>CA HOSPITALS COMMITTEE ON ISSUES, (CHCI) SPONS...</td>\n",
       "      <td>NaN</td>\n",
       "      <td>SACRAMENTO</td>\n",
       "      <td>CA</td>\n",
       "      <td>95814</td>\n",
       "      <td>NaN</td>\n",
       "      <td>NaN</td>\n",
       "      <td>False</td>\n",
       "      <td>9000000.0</td>\n",
       "    </tr>\n",
       "    <tr>\n",
       "      <th>1851</th>\n",
       "      <td>ocd-contest/446ec3da-7de1-45f0-9f97-228e53c6a9f6</td>\n",
       "      <td>1382647</td>\n",
       "      <td>74</td>\n",
       "      <td>PROPOSITION 055 - TAX EXTENSION TO FUND EDUCAT...</td>\n",
       "      <td>398</td>\n",
       "      <td>1381382</td>\n",
       "      <td>YES ON 55 - CALIFORNIANS FOR BUDGET STABILITY,...</td>\n",
       "      <td>SUPPORT</td>\n",
       "      <td>YES ON 55 - CALIFORNIANS FOR BUDGET STABILITY,...</td>\n",
       "      <td>2038482</td>\n",
       "      <td>2016-03-23</td>\n",
       "      <td>CALIFORNIA HOSPITALS COMMITTEE ON ISSUES, (CHC...</td>\n",
       "      <td>NaN</td>\n",
       "      <td>SACRAMENTO</td>\n",
       "      <td>CA</td>\n",
       "      <td>95814</td>\n",
       "      <td>NaN</td>\n",
       "      <td>NaN</td>\n",
       "      <td>False</td>\n",
       "      <td>8500000.0</td>\n",
       "    </tr>\n",
       "    <tr>\n",
       "      <th>1547</th>\n",
       "      <td>ocd-contest/85990193-9d6f-4600-b8e7-bf1317841d82</td>\n",
       "      <td>1362198</td>\n",
       "      <td>71</td>\n",
       "      <td>PROPOSITION 052 - STATE FEES ON HOSPITALS. FED...</td>\n",
       "      <td>386</td>\n",
       "      <td>1362973</td>\n",
       "      <td>YES ON PROPOSITION 52 - A COALITION OF CALIFOR...</td>\n",
       "      <td>SUPPORT</td>\n",
       "      <td>YES ON PROPOSITION 52 - A COALITION OF CALIFOR...</td>\n",
       "      <td>2033916</td>\n",
       "      <td>2016-01-20</td>\n",
       "      <td>DIGNITY HEALTH</td>\n",
       "      <td>NaN</td>\n",
       "      <td>SAN FRANCISCO</td>\n",
       "      <td>CA</td>\n",
       "      <td>91107</td>\n",
       "      <td>NaN</td>\n",
       "      <td>NaN</td>\n",
       "      <td>False</td>\n",
       "      <td>8478390.0</td>\n",
       "    </tr>\n",
       "  </tbody>\n",
       "</table>\n",
       "</div>"
      ],
      "text/plain": [
       "                                           ocd_prop_id  calaccess_prop_id  \\\n",
       "1863  ocd-contest/446ec3da-7de1-45f0-9f97-228e53c6a9f6            1382647   \n",
       "1865  ocd-contest/446ec3da-7de1-45f0-9f97-228e53c6a9f6            1382647   \n",
       "2026  ocd-contest/c2efe0d3-e9f4-4dfd-a0b7-a35757ef4ae9            1381640   \n",
       "1851  ocd-contest/446ec3da-7de1-45f0-9f97-228e53c6a9f6            1382647   \n",
       "1547  ocd-contest/85990193-9d6f-4600-b8e7-bf1317841d82            1362198   \n",
       "\n",
       "      ccdc_prop_id                                          prop_name  \\\n",
       "1863            74  PROPOSITION 055 - TAX EXTENSION TO FUND EDUCAT...   \n",
       "1865            74  PROPOSITION 055 - TAX EXTENSION TO FUND EDUCAT...   \n",
       "2026            75  PROPOSITION 056 - CIGARETTE TAX TO FUND HEALTH...   \n",
       "1851            74  PROPOSITION 055 - TAX EXTENSION TO FUND EDUCAT...   \n",
       "1547            71  PROPOSITION 052 - STATE FEES ON HOSPITALS. FED...   \n",
       "\n",
       "      ccdc_committee_id  calaccess_committee_id  \\\n",
       "1863                398                 1381382   \n",
       "1865                398                 1381382   \n",
       "2026                408                 1377991   \n",
       "1851                398                 1381382   \n",
       "1547                386                 1362973   \n",
       "\n",
       "                                       committee_name_x committee_position  \\\n",
       "1863  YES ON 55 - CALIFORNIANS FOR BUDGET STABILITY,...            SUPPORT   \n",
       "1865  YES ON 55 - CALIFORNIANS FOR BUDGET STABILITY,...            SUPPORT   \n",
       "2026  YES ON 56 - SAVES LIVES CALIFORNIA, A COALITIO...            SUPPORT   \n",
       "1851  YES ON 55 - CALIFORNIANS FOR BUDGET STABILITY,...            SUPPORT   \n",
       "1547  YES ON PROPOSITION 52 - A COALITION OF CALIFOR...            SUPPORT   \n",
       "\n",
       "                                       committee_name_y  calaccess_filing_id  \\\n",
       "1863  YES ON 55 - CALIFORNIANS FOR BUDGET STABILITY,...              2083690   \n",
       "1865  YES ON 55 - CALIFORNIANS FOR BUDGET STABILITY,...              2083690   \n",
       "2026  YES ON 56 - SAVES LIVES CALIFORNIA, A COALITIO...              2098627   \n",
       "1851  YES ON 55 - CALIFORNIANS FOR BUDGET STABILITY,...              2038482   \n",
       "1547  YES ON PROPOSITION 52 - A COALITION OF CALIFOR...              2033916   \n",
       "\n",
       "     date_received                               contributor_lastname  \\\n",
       "1863    2016-07-21  CALIFORNIA HOSPITALS COMMITTEE ON ISSUES, (CHC...   \n",
       "1865    2016-07-15         CALIFORNIA TEACHERS ASSOCIATION/ISSUES PAC   \n",
       "2026    2016-10-11  CA HOSPITALS COMMITTEE ON ISSUES, (CHCI) SPONS...   \n",
       "1851    2016-03-23  CALIFORNIA HOSPITALS COMMITTEE ON ISSUES, (CHC...   \n",
       "1547    2016-01-20                                     DIGNITY HEALTH   \n",
       "\n",
       "     contributor_firstname contributor_city contributor_state contributor_zip  \\\n",
       "1863                   NaN       SACRAMENTO                CA           95814   \n",
       "1865                   NaN       BURLINGAME                CA           94010   \n",
       "2026                   NaN       SACRAMENTO                CA           95814   \n",
       "1851                   NaN       SACRAMENTO                CA           95814   \n",
       "1547                   NaN    SAN FRANCISCO                CA           91107   \n",
       "\n",
       "     contributor_employer contributor_occupation  \\\n",
       "1863                  NaN                    NaN   \n",
       "1865                  NaN                    NaN   \n",
       "2026                  NaN                    NaN   \n",
       "1851                  NaN                    NaN   \n",
       "1547                  NaN                    NaN   \n",
       "\n",
       "      contributor_is_self_employed      amount  \n",
       "1863                         False  12500000.0  \n",
       "1865                         False  10000000.0  \n",
       "2026                         False   9000000.0  \n",
       "1851                         False   8500000.0  \n",
       "1547                         False   8478390.0  "
      ]
     },
     "execution_count": 18,
     "metadata": {},
     "output_type": "execute_result"
    }
   ],
   "source": [
    "support.sort_values(\"amount\", ascending=False).head()"
   ]
  },
  {
   "cell_type": "code",
   "execution_count": 19,
   "metadata": {},
   "outputs": [
    {
     "data": {
      "text/html": [
       "<div>\n",
       "<style>\n",
       "    .dataframe thead tr:only-child th {\n",
       "        text-align: right;\n",
       "    }\n",
       "\n",
       "    .dataframe thead th {\n",
       "        text-align: left;\n",
       "    }\n",
       "\n",
       "    .dataframe tbody tr th {\n",
       "        vertical-align: top;\n",
       "    }\n",
       "</style>\n",
       "<table border=\"1\" class=\"dataframe\">\n",
       "  <thead>\n",
       "    <tr style=\"text-align: right;\">\n",
       "      <th></th>\n",
       "      <th>ocd_prop_id</th>\n",
       "      <th>calaccess_prop_id</th>\n",
       "      <th>ccdc_prop_id</th>\n",
       "      <th>prop_name</th>\n",
       "      <th>ccdc_committee_id</th>\n",
       "      <th>calaccess_committee_id</th>\n",
       "      <th>committee_name_x</th>\n",
       "      <th>committee_position</th>\n",
       "      <th>committee_name_y</th>\n",
       "      <th>calaccess_filing_id</th>\n",
       "      <th>date_received</th>\n",
       "      <th>contributor_lastname</th>\n",
       "      <th>contributor_firstname</th>\n",
       "      <th>contributor_city</th>\n",
       "      <th>contributor_state</th>\n",
       "      <th>contributor_zip</th>\n",
       "      <th>contributor_employer</th>\n",
       "      <th>contributor_occupation</th>\n",
       "      <th>contributor_is_self_employed</th>\n",
       "      <th>amount</th>\n",
       "    </tr>\n",
       "  </thead>\n",
       "  <tbody>\n",
       "    <tr>\n",
       "      <th>1972</th>\n",
       "      <td>ocd-contest/c2efe0d3-e9f4-4dfd-a0b7-a35757ef4ae9</td>\n",
       "      <td>1381640</td>\n",
       "      <td>75</td>\n",
       "      <td>PROPOSITION 056 - CIGARETTE TAX TO FUND HEALTH...</td>\n",
       "      <td>407</td>\n",
       "      <td>1386637</td>\n",
       "      <td>NO ON 56 - STOP THE SPECIAL INTEREST TAX GRAB....</td>\n",
       "      <td>OPPOSE</td>\n",
       "      <td>NO ON 56 - STOP THE SPECIAL INTEREST TAX GRAB....</td>\n",
       "      <td>2083642</td>\n",
       "      <td>2016-08-03</td>\n",
       "      <td>PHILIP MORRIS USA INC. (MADE BY ITS SERVICE CO...</td>\n",
       "      <td>NaN</td>\n",
       "      <td>SACRAMENTO</td>\n",
       "      <td>CA</td>\n",
       "      <td>95814</td>\n",
       "      <td>NaN</td>\n",
       "      <td>NaN</td>\n",
       "      <td>False</td>\n",
       "      <td>9956700.0</td>\n",
       "    </tr>\n",
       "    <tr>\n",
       "      <th>1979</th>\n",
       "      <td>ocd-contest/c2efe0d3-e9f4-4dfd-a0b7-a35757ef4ae9</td>\n",
       "      <td>1381640</td>\n",
       "      <td>75</td>\n",
       "      <td>PROPOSITION 056 - CIGARETTE TAX TO FUND HEALTH...</td>\n",
       "      <td>407</td>\n",
       "      <td>1386637</td>\n",
       "      <td>NO ON 56 - STOP THE SPECIAL INTEREST TAX GRAB....</td>\n",
       "      <td>OPPOSE</td>\n",
       "      <td>NO ON 56 - STOP THE SPECIAL INTEREST TAX GRAB....</td>\n",
       "      <td>2083642</td>\n",
       "      <td>2016-09-07</td>\n",
       "      <td>PHILIP MORRIS USA INC. (MADE BY ITS SERVICE CO...</td>\n",
       "      <td>NaN</td>\n",
       "      <td>SACRAMENTO</td>\n",
       "      <td>CA</td>\n",
       "      <td>95814</td>\n",
       "      <td>NaN</td>\n",
       "      <td>NaN</td>\n",
       "      <td>False</td>\n",
       "      <td>9904752.0</td>\n",
       "    </tr>\n",
       "    <tr>\n",
       "      <th>1967</th>\n",
       "      <td>ocd-contest/c2efe0d3-e9f4-4dfd-a0b7-a35757ef4ae9</td>\n",
       "      <td>1381640</td>\n",
       "      <td>75</td>\n",
       "      <td>PROPOSITION 056 - CIGARETTE TAX TO FUND HEALTH...</td>\n",
       "      <td>407</td>\n",
       "      <td>1386637</td>\n",
       "      <td>NO ON 56 - STOP THE SPECIAL INTEREST TAX GRAB....</td>\n",
       "      <td>OPPOSE</td>\n",
       "      <td>NO ON 56 - STOP THE SPECIAL INTEREST TAX GRAB....</td>\n",
       "      <td>2083642</td>\n",
       "      <td>2016-07-12</td>\n",
       "      <td>PHILIP MORRIS USA INC. (MADE BY ITS SERVICE CO...</td>\n",
       "      <td>NaN</td>\n",
       "      <td>SACRAMENTO</td>\n",
       "      <td>CA</td>\n",
       "      <td>95814</td>\n",
       "      <td>NaN</td>\n",
       "      <td>NaN</td>\n",
       "      <td>False</td>\n",
       "      <td>8588736.0</td>\n",
       "    </tr>\n",
       "    <tr>\n",
       "      <th>1973</th>\n",
       "      <td>ocd-contest/c2efe0d3-e9f4-4dfd-a0b7-a35757ef4ae9</td>\n",
       "      <td>1381640</td>\n",
       "      <td>75</td>\n",
       "      <td>PROPOSITION 056 - CIGARETTE TAX TO FUND HEALTH...</td>\n",
       "      <td>407</td>\n",
       "      <td>1386637</td>\n",
       "      <td>NO ON 56 - STOP THE SPECIAL INTEREST TAX GRAB....</td>\n",
       "      <td>OPPOSE</td>\n",
       "      <td>NO ON 56 - STOP THE SPECIAL INTEREST TAX GRAB....</td>\n",
       "      <td>2083642</td>\n",
       "      <td>2016-08-03</td>\n",
       "      <td>R.J. REYNOLDS TOBACCO COMPANY (MADE BY ITS SER...</td>\n",
       "      <td>NaN</td>\n",
       "      <td>WINSTON-SALEM</td>\n",
       "      <td>NC</td>\n",
       "      <td>27101</td>\n",
       "      <td>NaN</td>\n",
       "      <td>NaN</td>\n",
       "      <td>False</td>\n",
       "      <td>7050000.0</td>\n",
       "    </tr>\n",
       "    <tr>\n",
       "      <th>1980</th>\n",
       "      <td>ocd-contest/c2efe0d3-e9f4-4dfd-a0b7-a35757ef4ae9</td>\n",
       "      <td>1381640</td>\n",
       "      <td>75</td>\n",
       "      <td>PROPOSITION 056 - CIGARETTE TAX TO FUND HEALTH...</td>\n",
       "      <td>407</td>\n",
       "      <td>1386637</td>\n",
       "      <td>NO ON 56 - STOP THE SPECIAL INTEREST TAX GRAB....</td>\n",
       "      <td>OPPOSE</td>\n",
       "      <td>NO ON 56 - STOP THE SPECIAL INTEREST TAX GRAB....</td>\n",
       "      <td>2083642</td>\n",
       "      <td>2016-09-07</td>\n",
       "      <td>R.J. REYNOLDS TOBACCO COMPANY (MADE BY ITS SER...</td>\n",
       "      <td>NaN</td>\n",
       "      <td>WINSTON-SALEM</td>\n",
       "      <td>NC</td>\n",
       "      <td>27101</td>\n",
       "      <td>NaN</td>\n",
       "      <td>NaN</td>\n",
       "      <td>False</td>\n",
       "      <td>7010000.0</td>\n",
       "    </tr>\n",
       "  </tbody>\n",
       "</table>\n",
       "</div>"
      ],
      "text/plain": [
       "                                           ocd_prop_id  calaccess_prop_id  \\\n",
       "1972  ocd-contest/c2efe0d3-e9f4-4dfd-a0b7-a35757ef4ae9            1381640   \n",
       "1979  ocd-contest/c2efe0d3-e9f4-4dfd-a0b7-a35757ef4ae9            1381640   \n",
       "1967  ocd-contest/c2efe0d3-e9f4-4dfd-a0b7-a35757ef4ae9            1381640   \n",
       "1973  ocd-contest/c2efe0d3-e9f4-4dfd-a0b7-a35757ef4ae9            1381640   \n",
       "1980  ocd-contest/c2efe0d3-e9f4-4dfd-a0b7-a35757ef4ae9            1381640   \n",
       "\n",
       "      ccdc_prop_id                                          prop_name  \\\n",
       "1972            75  PROPOSITION 056 - CIGARETTE TAX TO FUND HEALTH...   \n",
       "1979            75  PROPOSITION 056 - CIGARETTE TAX TO FUND HEALTH...   \n",
       "1967            75  PROPOSITION 056 - CIGARETTE TAX TO FUND HEALTH...   \n",
       "1973            75  PROPOSITION 056 - CIGARETTE TAX TO FUND HEALTH...   \n",
       "1980            75  PROPOSITION 056 - CIGARETTE TAX TO FUND HEALTH...   \n",
       "\n",
       "      ccdc_committee_id  calaccess_committee_id  \\\n",
       "1972                407                 1386637   \n",
       "1979                407                 1386637   \n",
       "1967                407                 1386637   \n",
       "1973                407                 1386637   \n",
       "1980                407                 1386637   \n",
       "\n",
       "                                       committee_name_x committee_position  \\\n",
       "1972  NO ON 56 - STOP THE SPECIAL INTEREST TAX GRAB....             OPPOSE   \n",
       "1979  NO ON 56 - STOP THE SPECIAL INTEREST TAX GRAB....             OPPOSE   \n",
       "1967  NO ON 56 - STOP THE SPECIAL INTEREST TAX GRAB....             OPPOSE   \n",
       "1973  NO ON 56 - STOP THE SPECIAL INTEREST TAX GRAB....             OPPOSE   \n",
       "1980  NO ON 56 - STOP THE SPECIAL INTEREST TAX GRAB....             OPPOSE   \n",
       "\n",
       "                                       committee_name_y  calaccess_filing_id  \\\n",
       "1972  NO ON 56 - STOP THE SPECIAL INTEREST TAX GRAB....              2083642   \n",
       "1979  NO ON 56 - STOP THE SPECIAL INTEREST TAX GRAB....              2083642   \n",
       "1967  NO ON 56 - STOP THE SPECIAL INTEREST TAX GRAB....              2083642   \n",
       "1973  NO ON 56 - STOP THE SPECIAL INTEREST TAX GRAB....              2083642   \n",
       "1980  NO ON 56 - STOP THE SPECIAL INTEREST TAX GRAB....              2083642   \n",
       "\n",
       "     date_received                               contributor_lastname  \\\n",
       "1972    2016-08-03  PHILIP MORRIS USA INC. (MADE BY ITS SERVICE CO...   \n",
       "1979    2016-09-07  PHILIP MORRIS USA INC. (MADE BY ITS SERVICE CO...   \n",
       "1967    2016-07-12  PHILIP MORRIS USA INC. (MADE BY ITS SERVICE CO...   \n",
       "1973    2016-08-03  R.J. REYNOLDS TOBACCO COMPANY (MADE BY ITS SER...   \n",
       "1980    2016-09-07  R.J. REYNOLDS TOBACCO COMPANY (MADE BY ITS SER...   \n",
       "\n",
       "     contributor_firstname contributor_city contributor_state contributor_zip  \\\n",
       "1972                   NaN       SACRAMENTO                CA           95814   \n",
       "1979                   NaN       SACRAMENTO                CA           95814   \n",
       "1967                   NaN       SACRAMENTO                CA           95814   \n",
       "1973                   NaN    WINSTON-SALEM                NC           27101   \n",
       "1980                   NaN    WINSTON-SALEM                NC           27101   \n",
       "\n",
       "     contributor_employer contributor_occupation  \\\n",
       "1972                  NaN                    NaN   \n",
       "1979                  NaN                    NaN   \n",
       "1967                  NaN                    NaN   \n",
       "1973                  NaN                    NaN   \n",
       "1980                  NaN                    NaN   \n",
       "\n",
       "      contributor_is_self_employed     amount  \n",
       "1972                         False  9956700.0  \n",
       "1979                         False  9904752.0  \n",
       "1967                         False  8588736.0  \n",
       "1973                         False  7050000.0  \n",
       "1980                         False  7010000.0  "
      ]
     },
     "execution_count": 19,
     "metadata": {},
     "output_type": "execute_result"
    }
   ],
   "source": [
    "oppose.sort_values(\"amount\", ascending=False).head()"
   ]
  },
  {
   "cell_type": "markdown",
   "metadata": {},
   "source": [
    "### The committes that donated most money."
   ]
  },
  {
   "cell_type": "code",
   "execution_count": 20,
   "metadata": {},
   "outputs": [
    {
     "data": {
      "text/html": [
       "<div>\n",
       "<style>\n",
       "    .dataframe thead tr:only-child th {\n",
       "        text-align: right;\n",
       "    }\n",
       "\n",
       "    .dataframe thead th {\n",
       "        text-align: left;\n",
       "    }\n",
       "\n",
       "    .dataframe tbody tr th {\n",
       "        vertical-align: top;\n",
       "    }\n",
       "</style>\n",
       "<table border=\"1\" class=\"dataframe\">\n",
       "  <thead>\n",
       "    <tr style=\"text-align: right;\">\n",
       "      <th></th>\n",
       "      <th>committee_name_x</th>\n",
       "      <th>amount</th>\n",
       "    </tr>\n",
       "  </thead>\n",
       "  <tbody>\n",
       "    <tr>\n",
       "      <th>34</th>\n",
       "      <td>NO ON PROP 61 - CALIFORNIANS AGAINST THE DECEP...</td>\n",
       "      <td>108417232.0</td>\n",
       "    </tr>\n",
       "    <tr>\n",
       "      <th>31</th>\n",
       "      <td>NO ON 56 - STOP THE SPECIAL INTEREST TAX GRAB....</td>\n",
       "      <td>54650500.0</td>\n",
       "    </tr>\n",
       "    <tr>\n",
       "      <th>53</th>\n",
       "      <td>YES ON 55 - CALIFORNIANS FOR BUDGET STABILITY,...</td>\n",
       "      <td>53494750.0</td>\n",
       "    </tr>\n",
       "    <tr>\n",
       "      <th>54</th>\n",
       "      <td>YES ON 56 - SAVES LIVES CALIFORNIA, A COALITIO...</td>\n",
       "      <td>29267861.0</td>\n",
       "    </tr>\n",
       "    <tr>\n",
       "      <th>20</th>\n",
       "      <td>FUND FOR POLICY REFORM (NONPROFIT 501(C)(4))</td>\n",
       "      <td>24560000.0</td>\n",
       "    </tr>\n",
       "  </tbody>\n",
       "</table>\n",
       "</div>"
      ],
      "text/plain": [
       "                                     committee_name_x       amount\n",
       "34  NO ON PROP 61 - CALIFORNIANS AGAINST THE DECEP...  108417232.0\n",
       "31  NO ON 56 - STOP THE SPECIAL INTEREST TAX GRAB....   54650500.0\n",
       "53  YES ON 55 - CALIFORNIANS FOR BUDGET STABILITY,...   53494750.0\n",
       "54  YES ON 56 - SAVES LIVES CALIFORNIA, A COALITIO...   29267861.0\n",
       "20       FUND FOR POLICY REFORM (NONPROFIT 501(C)(4))   24560000.0"
      ]
     },
     "execution_count": 20,
     "metadata": {},
     "output_type": "execute_result"
    }
   ],
   "source": [
    "merged.groupby(\"committee_name_x\").amount.sum().reset_index().sort_values(\"amount\", ascending=False).head()\n"
   ]
  },
  {
   "cell_type": "markdown",
   "metadata": {},
   "source": [
    "### Top contributors, names and position"
   ]
  },
  {
   "cell_type": "code",
   "execution_count": 21,
   "metadata": {},
   "outputs": [
    {
     "data": {
      "text/html": [
       "<div>\n",
       "<style>\n",
       "    .dataframe thead tr:only-child th {\n",
       "        text-align: right;\n",
       "    }\n",
       "\n",
       "    .dataframe thead th {\n",
       "        text-align: left;\n",
       "    }\n",
       "\n",
       "    .dataframe tbody tr th {\n",
       "        vertical-align: top;\n",
       "    }\n",
       "</style>\n",
       "<table border=\"1\" class=\"dataframe\">\n",
       "  <thead>\n",
       "    <tr style=\"text-align: right;\">\n",
       "      <th></th>\n",
       "      <th>contributor_firstname</th>\n",
       "      <th>contributor_lastname</th>\n",
       "      <th>committee_position</th>\n",
       "      <th>contributor_state</th>\n",
       "      <th>amount</th>\n",
       "    </tr>\n",
       "  </thead>\n",
       "  <tbody>\n",
       "    <tr>\n",
       "      <th>64006</th>\n",
       "      <td>THOMAS F.</td>\n",
       "      <td>STEYER</td>\n",
       "      <td>SUPPORT</td>\n",
       "      <td>CA</td>\n",
       "      <td>11400000.0</td>\n",
       "    </tr>\n",
       "    <tr>\n",
       "      <th>63889</th>\n",
       "      <td>THOMAS</td>\n",
       "      <td>STEYER</td>\n",
       "      <td>SUPPORT</td>\n",
       "      <td>CA</td>\n",
       "      <td>8750000.0</td>\n",
       "    </tr>\n",
       "    <tr>\n",
       "      <th>59898</th>\n",
       "      <td>SEAN</td>\n",
       "      <td>PARKER AND AFFILIATED ENTITIES</td>\n",
       "      <td>SUPPORT</td>\n",
       "      <td>CA</td>\n",
       "      <td>7250000.0</td>\n",
       "    </tr>\n",
       "    <tr>\n",
       "      <th>15503</th>\n",
       "      <td>DEAN A.</td>\n",
       "      <td>CORTOPASSI</td>\n",
       "      <td>SUPPORT</td>\n",
       "      <td>CA</td>\n",
       "      <td>2000000.0</td>\n",
       "    </tr>\n",
       "    <tr>\n",
       "      <th>59897</th>\n",
       "      <td>SEAN</td>\n",
       "      <td>PARKER</td>\n",
       "      <td>SUPPORT</td>\n",
       "      <td>CA</td>\n",
       "      <td>1900000.0</td>\n",
       "    </tr>\n",
       "  </tbody>\n",
       "</table>\n",
       "</div>"
      ],
      "text/plain": [
       "      contributor_firstname            contributor_lastname  \\\n",
       "64006             THOMAS F.                          STEYER   \n",
       "63889                THOMAS                          STEYER   \n",
       "59898                  SEAN  PARKER AND AFFILIATED ENTITIES   \n",
       "15503               DEAN A.                      CORTOPASSI   \n",
       "59897                  SEAN                          PARKER   \n",
       "\n",
       "      committee_position contributor_state      amount  \n",
       "64006            SUPPORT                CA  11400000.0  \n",
       "63889            SUPPORT                CA   8750000.0  \n",
       "59898            SUPPORT                CA   7250000.0  \n",
       "15503            SUPPORT                CA   2000000.0  \n",
       "59897            SUPPORT                CA   1900000.0  "
      ]
     },
     "execution_count": 21,
     "metadata": {},
     "output_type": "execute_result"
    }
   ],
   "source": [
    "merged.groupby(['contributor_firstname', 'contributor_lastname', 'committee_position', 'contributor_state']).amount.sum().reset_index().sort_values(\"amount\", ascending=False).head()"
   ]
  },
  {
   "cell_type": "markdown",
   "metadata": {},
   "source": [
    "### Percentage of donations from people who live outside of California - not finished"
   ]
  },
  {
   "cell_type": "markdown",
   "metadata": {},
   "source": [
    "First get all the californians with a filter"
   ]
  },
  {
   "cell_type": "code",
   "execution_count": 22,
   "metadata": {
    "collapsed": true
   },
   "outputs": [],
   "source": [
    "californians = merged[merged.contributor_state == 'CA']"
   ]
  },
  {
   "cell_type": "markdown",
   "metadata": {},
   "source": [
    "Then get the percentage by subtracting, dividing and rounding"
   ]
  },
  {
   "cell_type": "code",
   "execution_count": 23,
   "metadata": {},
   "outputs": [
    {
     "data": {
      "text/plain": [
       "36.0"
      ]
     },
     "execution_count": 23,
     "metadata": {},
     "output_type": "execute_result"
    }
   ],
   "source": [
    "((1 - californians.amount.sum() / merged.amount.sum()) * 100).round()"
   ]
  },
  {
   "cell_type": "markdown",
   "metadata": {
    "collapsed": true
   },
   "source": [
    "### Top employers of donors who gave for and against the measure"
   ]
  },
  {
   "cell_type": "code",
   "execution_count": 32,
   "metadata": {},
   "outputs": [
    {
     "data": {
      "text/html": [
       "<div>\n",
       "<style>\n",
       "    .dataframe thead tr:only-child th {\n",
       "        text-align: right;\n",
       "    }\n",
       "\n",
       "    .dataframe thead th {\n",
       "        text-align: left;\n",
       "    }\n",
       "\n",
       "    .dataframe tbody tr th {\n",
       "        vertical-align: top;\n",
       "    }\n",
       "</style>\n",
       "<table border=\"1\" class=\"dataframe\">\n",
       "  <thead>\n",
       "    <tr style=\"text-align: right;\">\n",
       "      <th></th>\n",
       "      <th>committee_position</th>\n",
       "      <th>contributor_employer</th>\n",
       "      <th>amount</th>\n",
       "    </tr>\n",
       "  </thead>\n",
       "  <tbody>\n",
       "    <tr>\n",
       "      <th>1751</th>\n",
       "      <td>OPPOSE</td>\n",
       "      <td>STATE OF CALIFORNIA</td>\n",
       "      <td>8.231993e+06</td>\n",
       "    </tr>\n",
       "    <tr>\n",
       "      <th>579</th>\n",
       "      <td>OPPOSE</td>\n",
       "      <td>FARALLON CAPITAL</td>\n",
       "      <td>1.750000e+06</td>\n",
       "    </tr>\n",
       "    <tr>\n",
       "      <th>1742</th>\n",
       "      <td>OPPOSE</td>\n",
       "      <td>STANFORD UNIVERSITY</td>\n",
       "      <td>1.556835e+06</td>\n",
       "    </tr>\n",
       "    <tr>\n",
       "      <th>888</th>\n",
       "      <td>OPPOSE</td>\n",
       "      <td>KLEINER PERKINS CAUFIELD AND BYERS</td>\n",
       "      <td>1.000000e+06</td>\n",
       "    </tr>\n",
       "    <tr>\n",
       "      <th>1170</th>\n",
       "      <td>OPPOSE</td>\n",
       "      <td>NETFLIX</td>\n",
       "      <td>1.000000e+06</td>\n",
       "    </tr>\n",
       "    <tr>\n",
       "      <th>1189</th>\n",
       "      <td>OPPOSE</td>\n",
       "      <td>NONE</td>\n",
       "      <td>8.364918e+05</td>\n",
       "    </tr>\n",
       "    <tr>\n",
       "      <th>313</th>\n",
       "      <td>OPPOSE</td>\n",
       "      <td>CHARTWELL PARTNERS</td>\n",
       "      <td>6.000000e+05</td>\n",
       "    </tr>\n",
       "    <tr>\n",
       "      <th>2071</th>\n",
       "      <td>OPPOSE</td>\n",
       "      <td>Y COMBINATOR</td>\n",
       "      <td>5.350000e+05</td>\n",
       "    </tr>\n",
       "    <tr>\n",
       "      <th>887</th>\n",
       "      <td>OPPOSE</td>\n",
       "      <td>KLEINER PERKINS CAUFIELD &amp; BYERS</td>\n",
       "      <td>5.000000e+05</td>\n",
       "    </tr>\n",
       "    <tr>\n",
       "      <th>724</th>\n",
       "      <td>OPPOSE</td>\n",
       "      <td>HENRY T. NICHOLAS, III FOUNDATION / NICHOLAS E...</td>\n",
       "      <td>4.000000e+05</td>\n",
       "    </tr>\n",
       "  </tbody>\n",
       "</table>\n",
       "</div>"
      ],
      "text/plain": [
       "     committee_position                               contributor_employer  \\\n",
       "1751             OPPOSE                                STATE OF CALIFORNIA   \n",
       "579              OPPOSE                                   FARALLON CAPITAL   \n",
       "1742             OPPOSE                                STANFORD UNIVERSITY   \n",
       "888              OPPOSE                 KLEINER PERKINS CAUFIELD AND BYERS   \n",
       "1170             OPPOSE                                            NETFLIX   \n",
       "1189             OPPOSE                                               NONE   \n",
       "313              OPPOSE                                 CHARTWELL PARTNERS   \n",
       "2071             OPPOSE                                       Y COMBINATOR   \n",
       "887              OPPOSE                   KLEINER PERKINS CAUFIELD & BYERS   \n",
       "724              OPPOSE  HENRY T. NICHOLAS, III FOUNDATION / NICHOLAS E...   \n",
       "\n",
       "            amount  \n",
       "1751  8.231993e+06  \n",
       "579   1.750000e+06  \n",
       "1742  1.556835e+06  \n",
       "888   1.000000e+06  \n",
       "1170  1.000000e+06  \n",
       "1189  8.364918e+05  \n",
       "313   6.000000e+05  \n",
       "2071  5.350000e+05  \n",
       "887   5.000000e+05  \n",
       "724   4.000000e+05  "
      ]
     },
     "execution_count": 32,
     "metadata": {},
     "output_type": "execute_result"
    }
   ],
   "source": [
    "oppose.groupby(['committee_position', 'contributor_employer']).amount.sum().reset_index().sort_values(\"amount\", ascending=False).head(10)"
   ]
  },
  {
   "cell_type": "code",
   "execution_count": 33,
   "metadata": {},
   "outputs": [
    {
     "data": {
      "text/html": [
       "<div>\n",
       "<style>\n",
       "    .dataframe thead tr:only-child th {\n",
       "        text-align: right;\n",
       "    }\n",
       "\n",
       "    .dataframe thead th {\n",
       "        text-align: left;\n",
       "    }\n",
       "\n",
       "    .dataframe tbody tr th {\n",
       "        vertical-align: top;\n",
       "    }\n",
       "</style>\n",
       "<table border=\"1\" class=\"dataframe\">\n",
       "  <thead>\n",
       "    <tr style=\"text-align: right;\">\n",
       "      <th></th>\n",
       "      <th>committee_position</th>\n",
       "      <th>contributor_employer</th>\n",
       "      <th>amount</th>\n",
       "    </tr>\n",
       "  </thead>\n",
       "  <tbody>\n",
       "    <tr>\n",
       "      <th>2717</th>\n",
       "      <td>SUPPORT</td>\n",
       "      <td>NEXTGEN CLIMATE</td>\n",
       "      <td>1.130010e+07</td>\n",
       "    </tr>\n",
       "    <tr>\n",
       "      <th>1327</th>\n",
       "      <td>SUPPORT</td>\n",
       "      <td>FARALLON CAPITAL</td>\n",
       "      <td>8.750000e+06</td>\n",
       "    </tr>\n",
       "    <tr>\n",
       "      <th>3659</th>\n",
       "      <td>SUPPORT</td>\n",
       "      <td>STATE OF CALIFORNIA</td>\n",
       "      <td>8.232738e+06</td>\n",
       "    </tr>\n",
       "    <tr>\n",
       "      <th>3357</th>\n",
       "      <td>SUPPORT</td>\n",
       "      <td>SAN TOMO, INC.</td>\n",
       "      <td>2.000000e+06</td>\n",
       "    </tr>\n",
       "    <tr>\n",
       "      <th>3436</th>\n",
       "      <td>SUPPORT</td>\n",
       "      <td>SEAN PARKER FOUNDATION</td>\n",
       "      <td>1.650000e+06</td>\n",
       "    </tr>\n",
       "    <tr>\n",
       "      <th>3650</th>\n",
       "      <td>SUPPORT</td>\n",
       "      <td>STANFORD UNIVERSITY</td>\n",
       "      <td>1.562615e+06</td>\n",
       "    </tr>\n",
       "    <tr>\n",
       "      <th>911</th>\n",
       "      <td>SUPPORT</td>\n",
       "      <td>CORTOPASSI FAMILY FOUNDATION</td>\n",
       "      <td>1.500000e+06</td>\n",
       "    </tr>\n",
       "    <tr>\n",
       "      <th>1315</th>\n",
       "      <td>SUPPORT</td>\n",
       "      <td>FACEBOOK</td>\n",
       "      <td>1.001860e+06</td>\n",
       "    </tr>\n",
       "    <tr>\n",
       "      <th>2693</th>\n",
       "      <td>SUPPORT</td>\n",
       "      <td>NETFLIX</td>\n",
       "      <td>1.000400e+06</td>\n",
       "    </tr>\n",
       "    <tr>\n",
       "      <th>2744</th>\n",
       "      <td>SUPPORT</td>\n",
       "      <td>NONE</td>\n",
       "      <td>9.782122e+05</td>\n",
       "    </tr>\n",
       "  </tbody>\n",
       "</table>\n",
       "</div>"
      ],
      "text/plain": [
       "     committee_position          contributor_employer        amount\n",
       "2717            SUPPORT               NEXTGEN CLIMATE  1.130010e+07\n",
       "1327            SUPPORT              FARALLON CAPITAL  8.750000e+06\n",
       "3659            SUPPORT           STATE OF CALIFORNIA  8.232738e+06\n",
       "3357            SUPPORT                SAN TOMO, INC.  2.000000e+06\n",
       "3436            SUPPORT        SEAN PARKER FOUNDATION  1.650000e+06\n",
       "3650            SUPPORT           STANFORD UNIVERSITY  1.562615e+06\n",
       "911             SUPPORT  CORTOPASSI FAMILY FOUNDATION  1.500000e+06\n",
       "1315            SUPPORT                      FACEBOOK  1.001860e+06\n",
       "2693            SUPPORT                       NETFLIX  1.000400e+06\n",
       "2744            SUPPORT                          NONE  9.782122e+05"
      ]
     },
     "execution_count": 33,
     "metadata": {},
     "output_type": "execute_result"
    }
   ],
   "source": [
    "support.groupby(['committee_position', 'contributor_employer']).amount.sum().reset_index().sort_values(\"amount\", ascending=False).head(10)"
   ]
  },
  {
   "cell_type": "code",
   "execution_count": null,
   "metadata": {
    "collapsed": true
   },
   "outputs": [],
   "source": []
  }
 ],
 "metadata": {
  "kernelspec": {
   "display_name": "Python 2",
   "language": "python",
   "name": "python2"
  },
  "language_info": {
   "codemirror_mode": {
    "name": "ipython",
    "version": 2
   },
   "file_extension": ".py",
   "mimetype": "text/x-python",
   "name": "python",
   "nbconvert_exporter": "python",
   "pygments_lexer": "ipython2",
   "version": "2.7.10"
  }
 },
 "nbformat": 4,
 "nbformat_minor": 2
}
